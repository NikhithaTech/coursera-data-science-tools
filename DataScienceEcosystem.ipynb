{
  "metadata": {
    "kernelspec": {
      "name": "python",
      "display_name": "Python (Pyodide)",
      "language": "python"
    },
    "language_info": {
      "codemirror_mode": {
        "name": "python",
        "version": 3
      },
      "file_extension": ".py",
      "mimetype": "text/x-python",
      "name": "python",
      "nbconvert_exporter": "python",
      "pygments_lexer": "ipython3",
      "version": "3.8"
    }
  },
  "nbformat_minor": 5,
  "nbformat": 4,
  "cells": [
    {
      "id": "37f3bc02-9529-4a26-b612-a78228a4457c",
      "cell_type": "markdown",
      "source": "# Data Science Tools and Ecosystem\n",
      "metadata": {}
    },
    {
      "id": "0c6a232d-3bb3-4344-9a77-875c8b20364a",
      "cell_type": "markdown",
      "source": "In this notebook, Data Science Tools and Ecosystem are summarized.\n",
      "metadata": {}
    },
    {
      "id": "1d16234c-505d-4051-99ae-15b59bc2c11c",
      "cell_type": "markdown",
      "source": "Some of the popular languages that Data Scientists use are:\n1. Python\n2. R\n3. SQL\n4. Julia\n5. Scala\n",
      "metadata": {}
    },
    {
      "id": "0b9d346a-dc80-4fd8-9975-99d0e2df1d4d",
      "cell_type": "markdown",
      "source": "Some of the commonly used libraries used by Data Scientists include:\n1. Pandas\n2. NumPy\n3. Matplotlib\n4. Scikit-learn\n5. TensorFlow\n",
      "metadata": {}
    },
    {
      "id": "6847ef18-b538-40a3-ba66-40a1ea9d5878",
      "cell_type": "markdown",
      "source": "| Data Science Tools     |\n|------------------------|\n| Jupyter Notebooks      |\n| RStudio                |\n| Apache Zeppelin        |\n",
      "metadata": {}
    },
    {
      "id": "3da5f6e6-d63f-429f-bf9f-4d35afabe04f",
      "cell_type": "markdown",
      "source": "### Below are a few examples of evaluating arithmetic expressions in Python.\n",
      "metadata": {}
    },
    {
      "id": "6e426b0d-061d-4279-a5b7-2c9954c8af5d",
      "cell_type": "code",
      "source": "# This a simple arithmetic expression to multiply then add integers\n(3 * 4) + 5\n",
      "metadata": {
        "trusted": true
      },
      "outputs": [
        {
          "execution_count": 3,
          "output_type": "execute_result",
          "data": {
            "text/plain": "17"
          },
          "metadata": {}
        }
      ],
      "execution_count": 3
    },
    {
      "id": "df2cc480-5a4c-4f8f-88a3-b282eccda7e0",
      "cell_type": "code",
      "source": "# This will convert 200 minutes to hours by dividing by 60\n200 / 60\n",
      "metadata": {
        "trusted": true
      },
      "outputs": [
        {
          "execution_count": 4,
          "output_type": "execute_result",
          "data": {
            "text/plain": "3.3333333333333335"
          },
          "metadata": {}
        }
      ],
      "execution_count": 4
    },
    {
      "id": "19617b64-a83b-4e7d-a419-42f01cd6fa67",
      "cell_type": "markdown",
      "source": "**Objectives:**\n- List popular languages for Data Science\n- List commonly used libraries for Data Science\n- Create tables using markdown\n- Perform basic arithmetic operations in code cells\n- Convert units in Python\n",
      "metadata": {}
    },
    {
      "id": "4db3e6f5-c5ba-4ef6-8f83-7d5b2aee2399",
      "cell_type": "markdown",
      "source": "## Author\nNikhitha \n",
      "metadata": {}
    },
    {
      "id": "10eddbb9-e507-418b-ab9e-4b616bbac488",
      "cell_type": "code",
      "source": "",
      "metadata": {
        "trusted": true
      },
      "outputs": [],
      "execution_count": null
    }
  ]
}